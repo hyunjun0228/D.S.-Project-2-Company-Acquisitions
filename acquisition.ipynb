{
 "cells": [
  {
   "cell_type": "markdown",
   "metadata": {},
   "source": [
    "# Success and Failure in Company Acquisitions in the IT Industry"
   ]
  },
  {
   "cell_type": "markdown",
   "metadata": {},
   "source": [
    "<h2>A Brief Introduction</h2><br>\n",
    "For the past few decades, the \"tech dinosaurs\" in the United States have been engaging in aggressive acquisitions of emerging businesses as a means of expanding their dominant power in the tech industry. Some acquisitions have faciliated the big-tech enterprises to extend their business power over emerging indsutries, while others have also impeded the growth of the business as a liability. <br><br>\n",
    "Throughout this project, my goal is to look into the instances of success and failure in company acquisition of the big-tech enterprises, and determine how it reveals the business strategies that these enterprises have taken in the past few decades. <br><br>\n",
    "Note: The 7 big-tech enterprises that I will be examining include:<br>\n",
    "<blockquote>\n",
    "    Apple<br>Facebook<br>Google<br>IBM<br>Microsoft<br>Twitter<br>Yahoo\n",
    "</blockquote>\n"
   ]
  },
  {
   "cell_type": "markdown",
   "metadata": {},
   "source": [
    "<h2>Project Goal and Process</h2><br>\n",
    "Through deeply analyzing and exploring the data I have collected, I will methodically pursue my project goal by answering the following sub-questions:<br><blockquote>\n",
    "1. How has the acquisition strategy change in each company over the past few decades? How is this reflected in the performance (stock prices) of each company?<br>\n",
    "2. When grouping the 7 Big-Tech companies according to the sector of industry that belong to (ex. Facebook & Twitter - Social Media, Google & Yahoo - Search Engine, etc.), how does the acquisition strategy differ across each group?<br>\n",
    "3. Is larger investment in company acquisitions correlated to greater success in business (increase in stock prices?)<br>\n",
    "4. Are there key acquisitions that pinpoint that lead the stock prices to increase or decrease heavily? <br>\n",
    "5. Are there notable derived products from the acquired companies that has led to an increase in stock prices?<br>\n",
    "</blockquote>"
   ]
  },
  {
   "cell_type": "markdown",
   "metadata": {},
   "source": [
    "<h4> Where I got my data</h4><br>\n",
    "The dataset, \"acquisitions.csv\", which contains rich information on past company acquisitions of these 7 enterprises was obtained from Kaggle <b>(https://www.kaggle.com/shivamb/company-acquisitions-7-top-companies)</b>. <br>\n",
    "The stock data was acquired through web scraping on <b>Yahoo Finance</b>. My code for web scraping is included in <b>'webscraper.py'</b>."
   ]
  },
  {
   "cell_type": "markdown",
   "metadata": {},
   "source": [
    "<h3>Taking a Look at the Dataset</h3><br>Before we proceed with the analysis, let's take a quick look at our dataset, \"acquisitions.csv\". 'clean_data_acq' module is a file that contains functions, which I have written, that cleans up the data."
   ]
  },
  {
   "cell_type": "code",
   "execution_count": 4,
   "metadata": {},
   "outputs": [
    {
     "name": "stdout",
     "output_type": "stream",
     "text": [
      "      id  year comany_acquired                      business country  \\\n",
      "0  ACQ99  2015           bebop                Cloud software     USA   \n",
      "1  ACQ98  2015        Fly Labs                 Video editing     USA   \n",
      "2  ACQ97  2015       Clearleap  Cloud-based video management     USA   \n",
      "3  ACQ96  2015      Metanautix            Big Data Analytics     USA   \n",
      "4  ACQ95  2015     Talko, Inc.         Mobile communications     USA   \n",
      "\n",
      "        products_derived parentCompany  \n",
      "0  Google Cloud Platform        Google  \n",
      "1          Google Photos        Google  \n",
      "2                   None           IBM  \n",
      "3                   None     Microsoft  \n",
      "4                   None     Microsoft  \n"
     ]
    }
   ],
   "source": [
    "import pandas as pd\n",
    "import clean_data_acq as cd\n",
    "acquisitions = pd.read_csv('acquisitions.csv')\n",
    "acquisitions = cd.clean_data(acquisitions)\n",
    "print(acquisitions.head())"
   ]
  },
  {
   "cell_type": "markdown",
   "metadata": {},
   "source": [
    "There are 7 variables in our dataset (I have purposefully taken out the \"Value (USD)\" variable in order to examine it separately later in the analysis):<br>\n",
    "<blockquote>id<br>year<br>company_acquired<br>business<br>country<br>products_derived<br>parentCompany</blockquote><br>\n"
   ]
  },
  {
   "cell_type": "markdown",
   "metadata": {},
   "source": [
    "The stock data is included in 'stock.csv', which is created from the function <b>stock_data()</b> in <b>clean_data_acq</b> module. As can be seen from below, the data includes stock prices in a week interval, to neglect the minor fluctuations in the stock prices."
   ]
  },
  {
   "cell_type": "code",
   "execution_count": 7,
   "metadata": {},
   "outputs": [
    {
     "name": "stdout",
     "output_type": "stream",
     "text": [
      "  company     price     volume        date\n",
      "0   apple  0.379464  103846400  1988-07-18\n",
      "1   apple  0.377232  575579200  1988-07-25\n",
      "2   apple  0.392857  439644800  1988-08-01\n",
      "3   apple  0.372768  531305600  1988-08-08\n",
      "4   apple  0.361607  709800000  1988-08-15\n"
     ]
    }
   ],
   "source": [
    "stock_data = pd.read_csv('stock.csv', index_col=0)\n",
    "print(stock_data.head())"
   ]
  },
  {
   "cell_type": "markdown",
   "metadata": {},
   "source": [
    "<h2>Part 1: Change in acuiqisition strategy of each company and its reflection on stock prices</h2>"
   ]
  },
  {
   "cell_type": "markdown",
   "metadata": {},
   "source": []
  }
 ],
 "metadata": {
  "kernelspec": {
   "display_name": "Python 3",
   "language": "python",
   "name": "python3"
  },
  "language_info": {
   "codemirror_mode": {
    "name": "ipython",
    "version": 3
   },
   "file_extension": ".py",
   "mimetype": "text/x-python",
   "name": "python",
   "nbconvert_exporter": "python",
   "pygments_lexer": "ipython3",
   "version": "3.8.8"
  }
 },
 "nbformat": 4,
 "nbformat_minor": 2
}
